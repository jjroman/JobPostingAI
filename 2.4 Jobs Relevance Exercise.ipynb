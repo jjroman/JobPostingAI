{
 "cells": [
  {
   "cell_type": "code",
   "execution_count": 13,
   "metadata": {},
   "outputs": [],
   "source": [
    "from sklearn.feature_extraction.text import CountVectorizer\n",
    "import pandas as pd\n",
    "import numpy as np"
   ]
  },
  {
   "cell_type": "markdown",
   "metadata": {},
   "source": [
    "## Step 1: Getting jobs saved previously"
   ]
  },
  {
   "cell_type": "code",
   "execution_count": 56,
   "metadata": {},
   "outputs": [],
   "source": [
    "df = pd.read_pickle(\"step1_df.pk\")"
   ]
  },
  {
   "cell_type": "code",
   "execution_count": 57,
   "metadata": {
    "scrolled": true
   },
   "outputs": [
    {
     "name": "stdout",
     "output_type": "stream",
     "text": [
      "                                                 title  \\\n",
      "0                   Data Engineer - Columbus, GA 31909   \n",
      "1                         Data Analyst - St. Louis, MO   \n",
      "2                          Data Scientist - Newark, CA   \n",
      "3                 Scientific Programmer - Berkeley, CA   \n",
      "4    PwC Labs - Jr. Data Scientist - Machine Learni...   \n",
      "..                                                 ...   \n",
      "776  Software Product Manager, Framework and Applic...   \n",
      "777  Natural Language Processing and Machine Learni...   \n",
      "778           Data Scientist - San Francisco, CA 94103   \n",
      "779                    Data Scientist - Glen Mills, PA   \n",
      "780              Data Analyst (Part-Time) - Austin, TX   \n",
      "\n",
      "                                                  body  \\\n",
      "0    Data Engineer - Columbus, GA 31909\\nCelebratin...   \n",
      "1    Data Analyst - St. Louis, MO\\nDuties\\nSummary\\...   \n",
      "2    Data Scientist - Newark, CA\\nData Scientist\\n\\...   \n",
      "3    Scientific Programmer - Berkeley, CA\\nCaribou ...   \n",
      "4    PwC Labs - Jr. Data Scientist - Machine Learni...   \n",
      "..                                                 ...   \n",
      "776  Software Product Manager, Framework and Applic...   \n",
      "777  Natural Language Processing and Machine Learni...   \n",
      "778  Data Scientist - San Francisco, CA 94103\\nWant...   \n",
      "779  Data Scientist - Glen Mills, PA\\nSSRS Data Sci...   \n",
      "780  Data Analyst (Part-Time) - Austin, TX\\nABOUT S...   \n",
      "\n",
      "                                               bullets  \n",
      "0    (Bachelor’s or Master’s degree in statistics, ...  \n",
      "1    (Job family (Series)\\n1501 General Mathematics...  \n",
      "2    (Design, develop, document and maintain machin...  \n",
      "3    (Demonstrated proficiency with Python, JavaScr...  \n",
      "4    (Invite and provide evidence-based feedback in...  \n",
      "..                                                 ...  \n",
      "776  (Define and Prove: You will collect insight an...  \n",
      "777  (Academic / Industry experience in NLP and Mac...  \n",
      "778  (Apply statistics techniques to improve Wish’s...  \n",
      "779  (Use machine learning methods (e.g., cluster a...  \n",
      "780  (Performing ad-hoc statistical analysis (linea...  \n",
      "\n",
      "[775 rows x 3 columns]\n"
     ]
    }
   ],
   "source": [
    "print(df)"
   ]
  },
  {
   "cell_type": "markdown",
   "metadata": {},
   "source": [
    "## Step 2: Getting my resumé data and adding to the main dataframe"
   ]
  },
  {
   "cell_type": "code",
   "execution_count": 101,
   "metadata": {},
   "outputs": [],
   "source": [
    "resume = {'title': ['Data Scientist'], \n",
    "'body': ['Skills\\nPython, Pandas, machine learning, natural language processing\\nExperience\\nManning / Data Analyst\\nOct 2019 PRESENT,  REMOTE\\nAnalyzed\\nand visualized vast amounts of data using Pandas, Python, and\\nMatplotlib.\\nEducation\\nBerkeley / B.S. Mathematics\\nAugust 2015 - May 2019,\\nBERKELEY, CA\\nGraduated summa cum laude.'], \n",
    "'bullets': [('Skills Python, Pandas, machine learning, natural language processing', 'Experience\\nManning / Data Analyst\\nOct 2019 PRESENT,  REMOTE\\nAnalyzed and visualized\\nvast amounts of data using Pandas, Python, and Matplotlib.', 'Education\\nBerkeley / B.S. Mathematics\\nAugust 2015 - May 2019,  BERKELEY, CA\\nGraduated summa cum\\nlaude.')]}"
   ]
  },
  {
   "cell_type": "code",
   "execution_count": 65,
   "metadata": {},
   "outputs": [
    {
     "data": {
      "text/plain": [
       "{'title': ['Data Scientist'],\n",
       " 'body': ['Skills\\nPython, Pandas, machine learning, natural language processing\\nㅡExperience\\nManning / Data Analyst\\nOct 2019 - PRESENT,  REMOTE\\nAnalyzed\\nand visualized vast amounts of data using Pandas, Python, and\\nMatplotlib.\\nEducation\\nBerkeley / B.S. Mathematics\\nAugust 2015 - May 2019,\\nBERKELEY, CA\\nGraduated summa cum laude.'],\n",
       " 'bullets': [('Skills Python, Pandas, machine learning, natural language processing',\n",
       "   'Experience\\nManning / Data Analyst\\nOct 2019 - PRESENT,  REMOTE\\nAnalyzed and visualized\\nvast amounts of data using Pandas, Python, and Matplotlib.',\n",
       "   'Education\\nBerkeley / B.S. Mathematics\\nAugust 2015 - May 2019,  BERKELEY, CA\\nGraduated summa cum\\nlaude.')]}"
      ]
     },
     "execution_count": 65,
     "metadata": {},
     "output_type": "execute_result"
    }
   ],
   "source": [
    "resume"
   ]
  },
  {
   "cell_type": "code",
   "execution_count": 102,
   "metadata": {},
   "outputs": [],
   "source": [
    "dfresume = pd.DataFrame(resume)"
   ]
  },
  {
   "cell_type": "markdown",
   "metadata": {},
   "source": [
    "Creating the dataframe of jobs with our resume in the position 0"
   ]
  },
  {
   "cell_type": "code",
   "execution_count": 103,
   "metadata": {},
   "outputs": [],
   "source": [
    "dfjobs = pd.concat([dfresume, df])"
   ]
  },
  {
   "cell_type": "code",
   "execution_count": 104,
   "metadata": {},
   "outputs": [
    {
     "name": "stdout",
     "output_type": "stream",
     "text": [
      "                                                 title  \\\n",
      "0                                       Data Scientist   \n",
      "0                   Data Engineer - Columbus, GA 31909   \n",
      "1                         Data Analyst - St. Louis, MO   \n",
      "2                          Data Scientist - Newark, CA   \n",
      "3                 Scientific Programmer - Berkeley, CA   \n",
      "..                                                 ...   \n",
      "776  Software Product Manager, Framework and Applic...   \n",
      "777  Natural Language Processing and Machine Learni...   \n",
      "778           Data Scientist - San Francisco, CA 94103   \n",
      "779                    Data Scientist - Glen Mills, PA   \n",
      "780              Data Analyst (Part-Time) - Austin, TX   \n",
      "\n",
      "                                                  body  \\\n",
      "0    Skills\\nPython, Pandas, machine learning, natu...   \n",
      "0    Data Engineer - Columbus, GA 31909\\nCelebratin...   \n",
      "1    Data Analyst - St. Louis, MO\\nDuties\\nSummary\\...   \n",
      "2    Data Scientist - Newark, CA\\nData Scientist\\n\\...   \n",
      "3    Scientific Programmer - Berkeley, CA\\nCaribou ...   \n",
      "..                                                 ...   \n",
      "776  Software Product Manager, Framework and Applic...   \n",
      "777  Natural Language Processing and Machine Learni...   \n",
      "778  Data Scientist - San Francisco, CA 94103\\nWant...   \n",
      "779  Data Scientist - Glen Mills, PA\\nSSRS Data Sci...   \n",
      "780  Data Analyst (Part-Time) - Austin, TX\\nABOUT S...   \n",
      "\n",
      "                                               bullets  \n",
      "0    (Skills Python, Pandas, machine learning, natu...  \n",
      "0    (Bachelor’s or Master’s degree in statistics, ...  \n",
      "1    (Job family (Series)\\n1501 General Mathematics...  \n",
      "2    (Design, develop, document and maintain machin...  \n",
      "3    (Demonstrated proficiency with Python, JavaScr...  \n",
      "..                                                 ...  \n",
      "776  (Define and Prove: You will collect insight an...  \n",
      "777  (Academic / Industry experience in NLP and Mac...  \n",
      "778  (Apply statistics techniques to improve Wish’s...  \n",
      "779  (Use machine learning methods (e.g., cluster a...  \n",
      "780  (Performing ad-hoc statistical analysis (linea...  \n",
      "\n",
      "[776 rows x 3 columns]\n"
     ]
    }
   ],
   "source": [
    "print(dfjobs)"
   ]
  },
  {
   "cell_type": "markdown",
   "metadata": {},
   "source": [
    "## 3. Creating Vectorizer\n",
    "Vectorizer will be used to see the relevance of the resume in the job postings."
   ]
  },
  {
   "cell_type": "code",
   "execution_count": 105,
   "metadata": {},
   "outputs": [],
   "source": [
    "from sklearn.feature_extraction.text import TfidfVectorizer\n",
    "tfidf_vectorizer = TfidfVectorizer(stop_words='english')"
   ]
  },
  {
   "cell_type": "markdown",
   "metadata": {},
   "source": [
    "We are using the body to compare, this could be more managed"
   ]
  },
  {
   "cell_type": "code",
   "execution_count": 106,
   "metadata": {},
   "outputs": [],
   "source": [
    "jobstfidf_matrix = tfidf_vectorizer.fit_transform(dfjobs['body'])"
   ]
  },
  {
   "cell_type": "code",
   "execution_count": 107,
   "metadata": {},
   "outputs": [],
   "source": [
    "jobstfidf_np_matrix = jobstfidf_matrix.toarray()"
   ]
  },
  {
   "cell_type": "markdown",
   "metadata": {},
   "source": [
    "We get the first row of the jobs because this is our resume"
   ]
  },
  {
   "cell_type": "code",
   "execution_count": 108,
   "metadata": {},
   "outputs": [],
   "source": [
    "resume_vector = jobstfidf_np_matrix[0]"
   ]
  },
  {
   "cell_type": "code",
   "execution_count": 109,
   "metadata": {},
   "outputs": [],
   "source": [
    "resume_nonzero_vector = np.flatnonzero(resume_vector)"
   ]
  },
  {
   "cell_type": "code",
   "execution_count": 121,
   "metadata": {},
   "outputs": [
    {
     "name": "stdout",
     "output_type": "stream",
     "text": [
      "[  227   232  1110  1134  1146  1515  1741  2083  3282  3373  4157  4695\n",
      "  5534  6884  6915  6971  7264  7350  7438  7446  7986  8319  8652  9272\n",
      "  9386  9660 10099 11017 11603 12629 12697 12829]\n"
     ]
    }
   ],
   "source": [
    "print(resume_nonzero_vector)"
   ]
  },
  {
   "cell_type": "code",
   "execution_count": 111,
   "metadata": {},
   "outputs": [],
   "source": [
    "words = tfidf_vectorizer.get_feature_names()"
   ]
  },
  {
   "cell_type": "code",
   "execution_count": 112,
   "metadata": {},
   "outputs": [
    {
     "data": {
      "text/plain": [
       "array([0.19650473, 0.25770535, 0.13378734, 0.10821811, 0.22040107,\n",
       "       0.22040107, 0.35598419, 0.06631507, 0.26876062, 0.07720463,\n",
       "       0.09060629, 0.03955799, 0.26876062, 0.07718334, 0.26876062,\n",
       "       0.0492957 , 0.0513137 , 0.26876062, 0.07213008, 0.11972752,\n",
       "       0.09681251, 0.18848937, 0.18634829, 0.11268949, 0.08116062,\n",
       "       0.0940112 , 0.15612792, 0.04627146, 0.26876062, 0.05569674,\n",
       "       0.14153369, 0.26876062])"
      ]
     },
     "execution_count": 112,
     "metadata": {},
     "output_type": "execute_result"
    }
   ],
   "source": [
    "resume_vector[resume_nonzero_vector]"
   ]
  },
  {
   "cell_type": "code",
   "execution_count": 118,
   "metadata": {},
   "outputs": [],
   "source": [
    "unique_words = [words[index] for index in resume_nonzero_vector]"
   ]
  },
  {
   "cell_type": "markdown",
   "metadata": {},
   "source": [
    "Getting the words of the resume to be able to check how good are our comparinson"
   ]
  },
  {
   "cell_type": "markdown",
   "metadata": {},
   "source": [
    "## 4. Calculating similarities"
   ]
  },
  {
   "cell_type": "code",
   "execution_count": 123,
   "metadata": {},
   "outputs": [
    {
     "name": "stdout",
     "output_type": "stream",
     "text": [
      "[1.         0.03754444 0.03317312 0.04612628 0.04575569 0.03908868\n",
      " 0.03383963 0.03383494 0.03900583 0.02513445 0.0371635  0.03603262\n",
      " 0.01446425 0.07756219 0.05841718 0.02719081 0.03725852 0.04665421\n",
      " 0.03042812 0.06522641 0.04189969 0.06516568 0.0230356  0.03585474\n",
      " 0.03087603 0.03518727 0.03575997 0.06201172 0.06477555 0.05001014\n",
      " 0.02189626 0.05065384 0.01795454 0.04013124 0.01867754 0.0385937\n",
      " 0.04225348 0.01959301 0.02721979 0.03934944 0.05639278 0.02487399\n",
      " 0.04991433 0.03390521 0.03416162 0.05596792 0.17874587 0.03112181\n",
      " 0.03548009 0.02942349 0.01293063 0.02070731 0.0571567  0.01929568\n",
      " 0.03046805 0.04425537 0.05810811 0.0388945  0.050312   0.04561416\n",
      " 0.02882914 0.03768109 0.01611922 0.0341089  0.02145204 0.04117732\n",
      " 0.18844803 0.04700643 0.05249362 0.02849865 0.01841594 0.03044352\n",
      " 0.04889931 0.05076678 0.02097056 0.02790177 0.01281449 0.03490324\n",
      " 0.03886317 0.03259585 0.04275095 0.02122137 0.02332675 0.091632\n",
      " 0.05173754 0.03523042 0.01926647 0.02941115 0.07022835 0.02087429\n",
      " 0.01235641 0.04165711 0.0407548  0.03080114 0.02588002 0.02316622\n",
      " 0.03462012 0.0367792  0.03444826 0.03143045 0.02758484 0.02942522\n",
      " 0.04208957 0.04971957 0.05301138 0.06406373 0.01537524 0.03855536\n",
      " 0.04903388 0.04592927 0.02933877 0.05661808 0.04373962 0.0321545\n",
      " 0.0312721  0.02903817 0.03561957 0.04248875 0.01238421 0.07703656\n",
      " 0.0361913  0.03616866 0.02682276 0.0435682  0.00846714 0.04053523\n",
      " 0.0299299  0.03671852 0.0372579  0.03187208 0.02273994 0.0485379\n",
      " 0.05311162 0.0316706  0.05203366 0.05551784 0.02215051 0.11395932\n",
      " 0.05832953 0.01791805 0.02533574 0.03411452 0.02803968 0.03054866\n",
      " 0.0428314  0.01764045 0.05151368 0.05445837 0.04612933 0.07074041\n",
      " 0.01195727 0.02008931 0.04844066 0.07045799 0.02077159 0.03445968\n",
      " 0.01545387 0.03937883 0.04051067 0.03221287 0.03606083 0.04004307\n",
      " 0.03500201 0.02463412 0.05929045 0.04927039 0.03999767 0.07345832\n",
      " 0.02332541 0.03348654 0.02846353 0.05590425 0.02633184 0.03788898\n",
      " 0.01472333 0.0531968  0.02609124 0.02743776 0.0220712  0.05409856\n",
      " 0.05016697 0.03247284 0.03593466 0.02067863 0.04746522 0.03268771\n",
      " 0.03024309 0.02399828 0.05907223 0.04029465 0.07510885 0.04325329\n",
      " 0.02335076 0.01437009 0.03274933 0.02814061 0.04435453 0.03740769\n",
      " 0.02818369 0.03686076 0.0191909  0.02817744 0.03168737 0.06736794\n",
      " 0.01393681 0.03161699 0.02281936 0.04338201 0.01574077 0.02562254\n",
      " 0.03895751 0.0324306  0.0205928  0.05260654 0.0392134  0.02197176\n",
      " 0.04082579 0.03694726 0.0290443  0.02855281 0.04018574 0.02641346\n",
      " 0.02909289 0.0320388  0.02945335 0.02307742 0.04674267 0.03947765\n",
      " 0.04571031 0.01642333 0.01507134 0.04997614 0.06983011 0.05457179\n",
      " 0.04101477 0.01216941 0.06073463 0.02111682 0.17484589 0.03342352\n",
      " 0.04139145 0.04059865 0.02667566 0.02659213 0.02942237 0.0356138\n",
      " 0.02253246 0.06741876 0.03648122 0.05766776 0.02659721 0.01938263\n",
      " 0.05054176 0.0249903  0.02928001 0.05612967 0.02675666 0.0637046\n",
      " 0.01147703 0.03378968 0.04215321 0.02369995 0.03821864 0.03732736\n",
      " 0.02351262 0.0225973  0.04231844 0.03106451 0.0173773  0.02202079\n",
      " 0.01371715 0.04106184 0.05095508 0.02043328 0.03287182 0.03748511\n",
      " 0.0156146  0.04158745 0.07353474 0.04321324 0.0812978  0.03890847\n",
      " 0.02675768 0.04677525 0.01871324 0.03787077 0.0406564  0.0221488\n",
      " 0.0191098  0.04755604 0.02084343 0.03309567 0.0222326  0.04120453\n",
      " 0.02168066 0.0406444  0.05470049 0.0590581  0.02230303 0.01536021\n",
      " 0.02958246 0.04850997 0.02036733 0.02290368 0.05513688 0.03633124\n",
      " 0.01819027 0.02008045 0.03242269 0.02803611 0.01734937 0.03056086\n",
      " 0.04371245 0.02136194 0.01705201 0.05595175 0.03210924 0.04258466\n",
      " 0.04474093 0.05742485 0.01113288 0.02906924 0.02291931 0.01057372\n",
      " 0.01877354 0.03856932 0.03067981 0.01539485 0.04566426 0.02674875\n",
      " 0.0334012  0.04454067 0.06437186 0.03840019 0.03275738 0.04718667\n",
      " 0.01500381 0.02419251 0.02627729 0.16787103 0.04144866 0.02313434\n",
      " 0.02339887 0.03937389 0.0401757  0.02950858 0.01302785 0.02613239\n",
      " 0.04933419 0.04903149 0.05593571 0.03274954 0.03556104 0.02532427\n",
      " 0.03735143 0.01593916 0.0425755  0.01019825 0.01742279 0.06814872\n",
      " 0.0284189  0.04461499 0.0314864  0.06657207 0.06391752 0.02944433\n",
      " 0.00951312 0.0535118  0.04500229 0.03537166 0.02969804 0.03535977\n",
      " 0.06725929 0.029447   0.03437656 0.00742273 0.01640092 0.02730394\n",
      " 0.02367381 0.02250911 0.03045944 0.0233471  0.03242079 0.06557823\n",
      " 0.04753147 0.06415686 0.07171133 0.06329024 0.04459182 0.02303828\n",
      " 0.05025783 0.0797998  0.03358843 0.0151148  0.05097215 0.04875955\n",
      " 0.03357108 0.02774673 0.04026476 0.02046422 0.03656927 0.03814891\n",
      " 0.03051315 0.01726056 0.02580493 0.04591321 0.03926549 0.01958197\n",
      " 0.01342821 0.04694057 0.04203259 0.02342982 0.04531759 0.05921058\n",
      " 0.0234731  0.05149274 0.06640329 0.0534002  0.07480295 0.02907476\n",
      " 0.01757986 0.03300009 0.01120095 0.03857139 0.02276785 0.04435208\n",
      " 0.03342359 0.06409973 0.00864975 0.03609061 0.03917054 0.04218967\n",
      " 0.02800334 0.10611845 0.04271291 0.03726366 0.0432163  0.04867668\n",
      " 0.05474364 0.03045534 0.0212867  0.04784588 0.02293896 0.0185006\n",
      " 0.02791896 0.04207708 0.02230657 0.0425159  0.02417786 0.05461038\n",
      " 0.05014023 0.02348949 0.03810901 0.02869131 0.0279744  0.01368667\n",
      " 0.05072772 0.02280239 0.03381687 0.04179426 0.02837113 0.02510137\n",
      " 0.04067501 0.01933925 0.01150733 0.02213242 0.04090007 0.0405886\n",
      " 0.02963638 0.03486522 0.03475038 0.05745814 0.02058948 0.03191789\n",
      " 0.02101526 0.03131112 0.04228566 0.02474838 0.06413885 0.06201531\n",
      " 0.02248527 0.03155415 0.03391702 0.03257455 0.02082445 0.00827223\n",
      " 0.03729417 0.02652132 0.04283197 0.04213562 0.0292831  0.03544349\n",
      " 0.04684553 0.02940914 0.02095278 0.01144617 0.02709208 0.04345983\n",
      " 0.05144145 0.0589049  0.03927258 0.0738825  0.01733162 0.04440643\n",
      " 0.05526657 0.02717156 0.02494377 0.03084912 0.02684591 0.03556592\n",
      " 0.0377497  0.0215775  0.05155577 0.02581778 0.020757   0.02557149\n",
      " 0.03102248 0.0493592  0.06457274 0.05317    0.13456902 0.03841369\n",
      " 0.03051442 0.01760251 0.02398957 0.0196281  0.05047335 0.03060694\n",
      " 0.01816206 0.02148568 0.03407096 0.02519578 0.01943133 0.01297117\n",
      " 0.03117026 0.02061904 0.01763048 0.05310664 0.03029928 0.05682328\n",
      " 0.01424787 0.02087795 0.01262177 0.21513614 0.03080688 0.06708247\n",
      " 0.02831496 0.03952534 0.03814926 0.01831392 0.02905403 0.037468\n",
      " 0.03370881 0.05409856 0.02005565 0.0210971  0.02572834 0.0346489\n",
      " 0.0384645  0.04035696 0.03219772 0.03302089 0.01672489 0.02268007\n",
      " 0.02752601 0.06073784 0.04903988 0.0335976  0.05728129 0.03924143\n",
      " 0.04370124 0.03162467 0.05679132 0.0406005  0.02605124 0.03179677\n",
      " 0.04577968 0.04814702 0.03650791 0.03900771 0.04057713 0.08873722\n",
      " 0.04911662 0.01783968 0.01188965 0.02372941 0.04113923 0.02787743\n",
      " 0.03643273 0.01166533 0.02213506 0.03330246 0.04264985 0.05339936\n",
      " 0.0375204  0.02947018 0.04828837 0.01976422 0.06779853 0.01282515\n",
      " 0.01345034 0.04472071 0.02676231 0.02886271 0.02299996 0.03033248\n",
      " 0.03857816 0.02902737 0.04823292 0.01616867 0.00992307 0.02962837\n",
      " 0.03670745 0.03984283 0.05682437 0.01840316 0.0450545  0.0489168\n",
      " 0.05159171 0.06340777 0.08775616 0.05018685 0.05505566 0.02917897\n",
      " 0.04716721 0.03351532 0.05771221 0.02029281 0.0526613  0.01135549\n",
      " 0.04046946 0.03682603 0.03542563 0.03655595 0.03118118 0.03758742\n",
      " 0.03082604 0.02681079 0.02973264 0.02281736 0.04387293 0.01532833\n",
      " 0.0276065  0.0499675  0.04696465 0.0184691  0.03195121 0.03733491\n",
      " 0.03997516 0.03146608 0.06456051 0.03595332 0.05246435 0.02205043\n",
      " 0.0365625  0.02134254 0.03012443 0.03219191 0.02292511 0.03427051\n",
      " 0.034995   0.04968115 0.03809201 0.01899131 0.02958146 0.05043349\n",
      " 0.03086495 0.0272685  0.01264103 0.02969071 0.02934632 0.03138696\n",
      " 0.03408218 0.0345796  0.04737382 0.01198391 0.0313097  0.02629492\n",
      " 0.050696   0.02091852 0.01408353 0.04814959 0.0253717  0.03584228\n",
      " 0.04637212 0.02048304 0.02483128 0.02732609 0.02659333 0.03438313\n",
      " 0.0399567  0.02250807 0.01506803 0.04200489 0.031565   0.03910172\n",
      " 0.04334027 0.05615782 0.01978568 0.04482133 0.02687018 0.01365829\n",
      " 0.07877737 0.04469639 0.04346387 0.05320538 0.04130191 0.01641751\n",
      " 0.05808197 0.03938999 0.02547227 0.023967   0.02265577 0.03284441\n",
      " 0.05840381 0.01341691 0.02606926 0.04535058 0.04251365 0.02038786\n",
      " 0.01473229 0.05072313 0.01394319 0.04113083 0.03983679 0.03470898\n",
      " 0.03454847 0.02283014 0.02621023 0.01970183 0.04040274 0.02446341\n",
      " 0.02739707 0.04611482 0.05589549 0.03966246 0.19742292 0.04374097\n",
      " 0.03403098 0.02963914 0.04526984 0.03692086 0.02941745 0.03571161\n",
      " 0.05163438 0.02210278 0.02045917 0.02758076 0.05139    0.03483781\n",
      " 0.05488269 0.0248352  0.06839873 0.03507261 0.04580151 0.03678185\n",
      " 0.03253113 0.01706133 0.0148234  0.03772724 0.02725685 0.04863112\n",
      " 0.05017157 0.03227388 0.06543451 0.0334387  0.06457146 0.05279699\n",
      " 0.01940552 0.01636207 0.0285706  0.02599379 0.11585522 0.0205512\n",
      " 0.04380659 0.03478823]\n"
     ]
    }
   ],
   "source": [
    "cosine_similarities = jobstfidf_np_matrix @ jobstfidf_np_matrix[0]\n",
    "print(cosine_similarities)"
   ]
  },
  {
   "cell_type": "code",
   "execution_count": 129,
   "metadata": {},
   "outputs": [
    {
     "name": "stdout",
     "output_type": "stream",
     "text": [
      "The following post has a cosine similarity of 0.22 with jobs[0]:\n",
      "\n",
      "Applied Data Ethics Fellow - San Francisco, CA 94117\n",
      "Applied Data Ethics Fellow\n",
      "University of San Francisco\n",
      "\n",
      "R0002362\n",
      "Downtown Campus\n",
      "\n",
      "Job Title:\n",
      "Applied Data Ethics Fellow\n",
      "\n",
      "Job Summary:\n",
      "The Data Institute at the University of San Francisco is seeking applicants for an Applied Data Ethics Fellow. This role will be part of the Center for Applied Data Ethics (CADE), housed within the Data Institute at USF. The appointment will be for a minimum of 1 year, with the opportunity to extend up to 1 additional year, dependent upon funding.\n",
      "\n",
      "This position is open to those with a wide range of backgrounds. We welcome applicants from any discipline (including, but not limited to computer science, statistics, law, social sciences, history, media studies, political science, public policy, business, etc.). We are looking for people who have shown deep interest and expertise in areas related to data ethics, including disinformation, surveillance/privacy, unjust bias, or tech policy, with a particular focus on practical impact.\n",
      "\n",
      "Full Job Description:\n",
      "\n",
      "The role will involve:\n",
      "\n",
      "? Supporting research in the area of tech ethics. This can take many forms, whether it is traditional academic research, working with a Data Institute partner company or nonprofit on ethical issues and developing a case study, or in creating other original programming around data ethics.\n",
      "\n",
      "? A community engagement component that may include designing workshops for middle school or high school students; supporting the course development for Director of CADE including continuing education evening courses open to those already working in tech.\n",
      "\n",
      "? Supporting the dissemination of research by sharing work through papers, blog posts, and speaking at conferences (industry, open source, or academic).\n",
      "\n",
      "? Involvement with events at the USF Data Institute, including interacting with researchers in other Data Institute programs, attending seminars, and meeting with Data Institute partner companies and nonprofits.\n",
      "\n",
      "The USF Data Institute serves as the umbrella organization for data science education, research and programming at USF. The Data Institute offers the MS in Data Science (MSDS), BS in Data Science (BSDS) and continuing education certificates, hosts interdisciplinary postdoctoral fellows, and is home to initiatives focused on applied data ethics, AI in medical research and environmental science. The MSDS and the BSDS programs, with the support of the Data Institute, are interdisciplinary degree programs with a diverse and growing community of full-time faculty members from data science, mathematics and statistics, and computer science.\n",
      "\n",
      "Training and opportunities the Fellow will receive include:\n",
      "\n",
      "Research funding to support travel and dissemination of research. Access to the computing resources at USF and the Data Institute that includes GPU clusters as well as Amazon Web Services resources. Access to specialized courses established at the Data Institute and the graduate programs at USF including in deep learning, databases, large-scale computing, statistical modeling and other areas of data science to complement the Fellow's current training and expertise.\n",
      "\n",
      "Minimum Qualifications: Bachelor's Degree.\n",
      "\n",
      "The data science faculty at USF and the Data Institute pursue academic excellence and are committed to fostering an environment in which faculty, staff, and students from a variety of backgrounds, cultures, and personal experiences are welcomed and can thrive.\n",
      "\n",
      "This position is a temporary position. The term (length) of the position is dependent on the funding to cover the total compensation of the position. This position will be reviewed periodically to ensure funding still exists.\n",
      "\n",
      "We invite interested candidates to find out more about the Data Institute, MSDS program and the faculty here:\n",
      "\n",
      "https://www.usfca.edu/arts-sciences/graduate-programs/data-science/faculty\n",
      "\n",
      "https://www.usfca.edu/data-institute\n",
      "\n",
      "Applicants should submit a cover letter, curriculum vitae, transcripts, research statement (1000 words), links to any relevant previous work (can include academic papers, blog posts, essays, or recordings of talks), and three letters of recommendation electronically in PDF format to http://gnosis.usfca.edu/search.\n",
      "\n",
      "Applications are accepted on a rolling basis but review will begin after November 1. Any questions can be sent to datainstitute@usfca.edu.\n",
      "\n",
      "The University of San Francisco is an equal opportunity institution of higher education. As a matter of policy, the University does not discriminate in employment, educational services and academic programs on the basis of an individual's race, color, religion, religious creed, ancestry, national origin, age (except minors), sex, gender identity, sexual orientation, marital status, medical condition (cancer-related and genetic-related) and disability, and the other bases prohibited by law. The University reasonably accommodates qualified individuals with disabilities under the law.\n",
      "\n",
      "USF is a private, urban Jesuit University with a global perspective that educates women and men who will fashion a more humane and just world. The core mission of the University is to promote learning in the Jesuit tradition. The University offers undergraduate, graduate, and professional students the knowledge and skills needed to succeed as persons and professionals, and the values and sensitivity necessary to be women and men for others. The University draws from the cultural, intellectual, and economic resources of the San Francisco Bay Area and its location on the Pacific Rim to enrich and strengthen its educational programs. Candidates should demonstrate a commitment to work in a culturally diverse environment and to contribute to the mission of the University.\n",
      "\n",
      "Full-Time/Part-Time:\n",
      "Full time\n",
      "\n",
      "Pay Rate:\n",
      "Salary\n",
      "\n",
      "To apply, visit https://usfca.wd5.myworkdayjobs.com/en-US/USF_Staff/job/Downtown-Campus/Applied-Data-Ethics-Fellow_R0002362.\n",
      "\n",
      "The University of San Francisco is located in the heart of one of the world’s most innovative and diverse cities, and is home to a vibrant academic community of students and faculty who achieve excellence in their fields. Its diverse student body enjoys direct access to faculty, small classes and outstanding opportunities in the city itself. USF is San Francisco's first university, and its Jesuit Catholic mission helps ignite a student’s passion for social justice and a desire to “Change the World From Here.” For more information, visit http://www.usfca.edu.\n",
      "\n",
      "Copyright ©2017 Jobelephant.com Inc. All rights reserved.\n",
      "\n",
      "Posted by the FREE value-added recruitment advertising agency\n",
      "\n",
      "jeid-d76b553bb059174984814a560d304111\n"
     ]
    }
   ],
   "source": [
    "most_similar_index = np.argsort(cosine_similarities)[-2]\n",
    "similarity = cosine_similarities[most_similar_index]\n",
    "\n",
    "most_similar_post = dfjobs['body'][most_similar_index]\n",
    "print(f\"The following post has a cosine similarity of {similarity:.2f} \"\n",
    "       \"with jobs[0]:\\n\")\n",
    "print(most_similar_post)"
   ]
  },
  {
   "cell_type": "markdown",
   "metadata": {},
   "source": [
    "This is the most interesting thing, we can change the similarity variable to manage\n",
    "the number of posts that we want to manage and save in the new datafram"
   ]
  },
  {
   "cell_type": "code",
   "execution_count": 147,
   "metadata": {},
   "outputs": [],
   "source": [
    "similarity = 0.05 # greater than 10% of similarity to get the post\n",
    "most_similar_post = [ind for ind, x in enumerate(cosine_similarities) if cosine_similarities[ind] > similarity]"
   ]
  },
  {
   "cell_type": "code",
   "execution_count": 148,
   "metadata": {},
   "outputs": [
    {
     "data": {
      "text/html": [
       "<div>\n",
       "<style scoped>\n",
       "    .dataframe tbody tr th:only-of-type {\n",
       "        vertical-align: middle;\n",
       "    }\n",
       "\n",
       "    .dataframe tbody tr th {\n",
       "        vertical-align: top;\n",
       "    }\n",
       "\n",
       "    .dataframe thead th {\n",
       "        text-align: right;\n",
       "    }\n",
       "</style>\n",
       "<table border=\"1\" class=\"dataframe\">\n",
       "  <thead>\n",
       "    <tr style=\"text-align: right;\">\n",
       "      <th></th>\n",
       "      <th>title</th>\n",
       "      <th>body</th>\n",
       "      <th>bullets</th>\n",
       "    </tr>\n",
       "  </thead>\n",
       "  <tbody>\n",
       "    <tr>\n",
       "      <th>0</th>\n",
       "      <td>Data Scientist</td>\n",
       "      <td>Skills\\nPython, Pandas, machine learning, natu...</td>\n",
       "      <td>(Skills Python, Pandas, machine learning, natu...</td>\n",
       "    </tr>\n",
       "    <tr>\n",
       "      <th>12</th>\n",
       "      <td>Data Scientist, Natural Language Processing (N...</td>\n",
       "      <td>Data Scientist, Natural Language Processing (N...</td>\n",
       "      <td>(MSc or PhD in Statistics, Physics, Engineerin...</td>\n",
       "    </tr>\n",
       "    <tr>\n",
       "      <th>13</th>\n",
       "      <td>Data Scientist - San Diego, CA</td>\n",
       "      <td>Data Scientist - San Diego, CA\\nJob Title: Dat...</td>\n",
       "      <td>(Work with stakeholders throughout the organiz...</td>\n",
       "    </tr>\n",
       "    <tr>\n",
       "      <th>18</th>\n",
       "      <td>Data Scientist - Fort Lauderdale, FL</td>\n",
       "      <td>Data Scientist - Fort Lauderdale, FL\\nOverview...</td>\n",
       "      <td>(Perform exploratory data analysis, generate a...</td>\n",
       "    </tr>\n",
       "    <tr>\n",
       "      <th>20</th>\n",
       "      <td>Data Scientist III - Pasadena, CA 91101</td>\n",
       "      <td>Data Scientist III - Pasadena, CA 91101\\nMust ...</td>\n",
       "      <td>(Must be a Green Card Holder, Offer contingent...</td>\n",
       "    </tr>\n",
       "    <tr>\n",
       "      <th>...</th>\n",
       "      <td>...</td>\n",
       "      <td>...</td>\n",
       "      <td>...</td>\n",
       "    </tr>\n",
       "    <tr>\n",
       "      <th>767</th>\n",
       "      <td>Data Scientist Intern - Pricing Strategy and A...</td>\n",
       "      <td>Data Scientist Intern - Pricing Strategy and A...</td>\n",
       "      <td>(Apply statistical methods to analyze the effe...</td>\n",
       "    </tr>\n",
       "    <tr>\n",
       "      <th>769</th>\n",
       "      <td>Data &amp; Tableau Reporting Analyst - Santa Clara...</td>\n",
       "      <td>Data &amp; Tableau Reporting Analyst - Santa Clara...</td>\n",
       "      <td>(4-6 years of recent experience in a business ...</td>\n",
       "    </tr>\n",
       "    <tr>\n",
       "      <th>771</th>\n",
       "      <td>Senior Data Scientist, Education - Redwood Cit...</td>\n",
       "      <td>Senior Data Scientist, Education - Redwood Cit...</td>\n",
       "      <td>(Leverage data to understand product, identify...</td>\n",
       "    </tr>\n",
       "    <tr>\n",
       "      <th>772</th>\n",
       "      <td>Data Scientist (PhD) - Intern - Spring, TX</td>\n",
       "      <td>Data Scientist (PhD) - Intern - Spring, TX\\nJo...</td>\n",
       "      <td>(Use data visualization, statistical analysis,...</td>\n",
       "    </tr>\n",
       "    <tr>\n",
       "      <th>777</th>\n",
       "      <td>Natural Language Processing and Machine Learni...</td>\n",
       "      <td>Natural Language Processing and Machine Learni...</td>\n",
       "      <td>(Academic / Industry experience in NLP and Mac...</td>\n",
       "    </tr>\n",
       "  </tbody>\n",
       "</table>\n",
       "<p>139 rows × 3 columns</p>\n",
       "</div>"
      ],
      "text/plain": [
       "                                                 title  \\\n",
       "0                                       Data Scientist   \n",
       "12   Data Scientist, Natural Language Processing (N...   \n",
       "13                      Data Scientist - San Diego, CA   \n",
       "18                Data Scientist - Fort Lauderdale, FL   \n",
       "20             Data Scientist III - Pasadena, CA 91101   \n",
       "..                                                 ...   \n",
       "767  Data Scientist Intern - Pricing Strategy and A...   \n",
       "769  Data & Tableau Reporting Analyst - Santa Clara...   \n",
       "771  Senior Data Scientist, Education - Redwood Cit...   \n",
       "772         Data Scientist (PhD) - Intern - Spring, TX   \n",
       "777  Natural Language Processing and Machine Learni...   \n",
       "\n",
       "                                                  body  \\\n",
       "0    Skills\\nPython, Pandas, machine learning, natu...   \n",
       "12   Data Scientist, Natural Language Processing (N...   \n",
       "13   Data Scientist - San Diego, CA\\nJob Title: Dat...   \n",
       "18   Data Scientist - Fort Lauderdale, FL\\nOverview...   \n",
       "20   Data Scientist III - Pasadena, CA 91101\\nMust ...   \n",
       "..                                                 ...   \n",
       "767  Data Scientist Intern - Pricing Strategy and A...   \n",
       "769  Data & Tableau Reporting Analyst - Santa Clara...   \n",
       "771  Senior Data Scientist, Education - Redwood Cit...   \n",
       "772  Data Scientist (PhD) - Intern - Spring, TX\\nJo...   \n",
       "777  Natural Language Processing and Machine Learni...   \n",
       "\n",
       "                                               bullets  \n",
       "0    (Skills Python, Pandas, machine learning, natu...  \n",
       "12   (MSc or PhD in Statistics, Physics, Engineerin...  \n",
       "13   (Work with stakeholders throughout the organiz...  \n",
       "18   (Perform exploratory data analysis, generate a...  \n",
       "20   (Must be a Green Card Holder, Offer contingent...  \n",
       "..                                                 ...  \n",
       "767  (Apply statistical methods to analyze the effe...  \n",
       "769  (4-6 years of recent experience in a business ...  \n",
       "771  (Leverage data to understand product, identify...  \n",
       "772  (Use data visualization, statistical analysis,...  \n",
       "777  (Academic / Industry experience in NLP and Mac...  \n",
       "\n",
       "[139 rows x 3 columns]"
      ]
     },
     "execution_count": 148,
     "metadata": {},
     "output_type": "execute_result"
    }
   ],
   "source": [
    "dfjobs.iloc[most_similar_post] # these are the most similar post"
   ]
  },
  {
   "cell_type": "code",
   "execution_count": 150,
   "metadata": {},
   "outputs": [],
   "source": [
    "dfjobs.iloc[most_similar_post].to_pickle('step2_df.pk')"
   ]
  }
 ],
 "metadata": {
  "kernelspec": {
   "display_name": "Python 3",
   "language": "python",
   "name": "python3"
  },
  "language_info": {
   "codemirror_mode": {
    "name": "ipython",
    "version": 3
   },
   "file_extension": ".py",
   "mimetype": "text/x-python",
   "name": "python",
   "nbconvert_exporter": "python",
   "pygments_lexer": "ipython3",
   "version": "3.7.6"
  }
 },
 "nbformat": 4,
 "nbformat_minor": 4
}
