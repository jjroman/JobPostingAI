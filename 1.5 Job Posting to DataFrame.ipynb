{
 "cells": [
  {
   "cell_type": "code",
   "execution_count": 51,
   "metadata": {},
   "outputs": [],
   "source": [
    "import re\n",
    "import glob\n",
    "from bs4 import BeautifulSoup as bs\n",
    "import pandas as pd"
   ]
  },
  {
   "cell_type": "code",
   "execution_count": 15,
   "metadata": {},
   "outputs": [],
   "source": [
    "from IPython.core.display import display, HTML\n",
    "def render(html_contents): display(HTML(html_contents))"
   ]
  },
  {
   "cell_type": "code",
   "execution_count": 12,
   "metadata": {},
   "outputs": [],
   "source": [
    "files = glob.glob('data/html_job_postings/*.html')"
   ]
  },
  {
   "cell_type": "code",
   "execution_count": 21,
   "metadata": {},
   "outputs": [],
   "source": [
    "def readfile(f):\n",
    "    with open(f) as jf:\n",
    "        text = jf.readlines()\n",
    "        \n",
    "    joinedtext = ' '.join(text)\n",
    "    return joinedtext"
   ]
  },
  {
   "cell_type": "code",
   "execution_count": 47,
   "metadata": {},
   "outputs": [],
   "source": [
    "def isDataScienceTitle(title):\n",
    "    regtitle = re.compile(r\"(DATA|SCIEN|Deep learning|Machine Learning)\", re.IGNORECASE)\n",
    "    regtitlenot = re.compile(r\"(ASTRO)\", re.IGNORECASE)\n",
    "    return regtitle.search(title) and not regtitlenot.search(title)\n",
    "\n",
    "def getHtmlFromFile(file):\n",
    "    return bs(readfile(jobfile))"
   ]
  },
  {
   "cell_type": "code",
   "execution_count": 22,
   "metadata": {
    "scrolled": true
   },
   "outputs": [
    {
     "name": "stdout",
     "output_type": "stream",
     "text": [
      "<html><head><title>Data Scientist 2/3 - Secret - Chantilly, VA</title></head>\n",
      " <body><h2>Data Scientist 2/3 - Secret - Chantilly, VA</h2>\n",
      " <div><b>Data Scientist 2 or 3 - Secret</b></div>\n",
      " <div><b>Chantilly, VA</b></div>\n",
      " <div>(19029094)</div>\n",
      " <div></div> <div><div><b>Description</b>\n",
      " <div></div>\n",
      " <div>Are you motivated to work in an environment that will challenge you, force you to continuously innovate, and work on solutions that make a difference for our customers? Do you want to be part of a team performing data analytics where the efforts/results will positively impact program design/proposal/orals? If so, there is a future for you to support a portfolio of highly visible and strategic programs at Northrop Grumman.<br/>\n",
      " <br/>\n",
      " Northrop Grumman Mission Systems is seeking a Data Scientist to join our team of qualified, diverse individuals located at several locations throughout Northern Virginia.<br/>\n",
      " <br/>\n",
      " Position Description:<br/>\n",
      " <ul><li>The ideal candidate should be an experienced data scientist that can participate in creating analytic models to assess the probability of threat and identify patterns of potential illegal activities.</li><li>These efforts would include analysis of data at large scales as well as significant data preparation and cleansing.</li><li>The candidate would also use open source tools to create, train, and refine entity resolution pipelines – first with test data and then potentially with real customer data. These efforts would go towards inclusion in highly visible and strategic programs.</li></ul></div><br/>\n",
      " <div></div>\n",
      " <div>This position my be filled as a level 2 or 3.</div><br/>\n",
      " <div>\n",
      " </div></div>\n",
      " <div><b>Qualifications</b>\n",
      " <div></div>\n",
      " <div><b>Basic Qualifications:</b></div>\n",
      " <ul><li>Level 2: <b>Bachelor’s Degree</b> and a minimum of 2 years of related experience, a Master’s Degree with no experience required, or a total of 6 years of experience without a degree.</li><li>Level 3: Bachelor’s Degree and a minimum of 5 years of related experience, a Master’s Degree and a minimum of 3 years of experience, a PhD with no experience required, or a total of 9 years of experience without a degree.</li></ul>\n",
      " •Experience creating data mining architectures/models/protocols, statistical reporting, and data analysis methodologies to identify trends in large data sets.<br/>\n",
      " <ul><li>Experience with data analysis and applications that address a business issue or provide a competitive advantage for an organization.</li><li>Statistical or data visualization skills.</li><li>Experience in machine learning, artificial intelligence (AI), and/or cognitive reasoning.</li><li><b>Active Secret Clearance</b> with the ability to obtain a TS, TS/SCI, or Polygraph</li></ul>\n",
      " <br/>\n",
      " <b>Preferred Qualifications:</b><br/>\n",
      " <ul><li>Bachelor’s degree in a STEM discipline (Science, Technology, Engineering, or Math) along with 2 or more years of data science experience.</li><li>Knowledge of statistical datasets and implementation techniques and tools for the most efficient metrics, including present and future capacity requirements.</li><li>Experience with Tableau, SAS, Apache Spark, BigML, D3, MATLAB, Python, K-Means clustering, data regression, Apache Spark or other data science tools.</li><li>Experience taking big data and turning it into metrics or prediction information for decision making.</li><li>Two years of experience with statistical and data visualization skills.</li></ul></div></div></body>\n",
      " </html>\n"
     ]
    }
   ],
   "source": [
    "#print(readfile(files[0]))"
   ]
  },
  {
   "cell_type": "code",
   "execution_count": 72,
   "metadata": {},
   "outputs": [
    {
     "name": "stdout",
     "output_type": "stream",
     "text": [
      "Nro: 782\n",
      "                                                 title  \\\n",
      "0          Data Scientist 2/3 - Secret - Chantilly, VA   \n",
      "1    Manager, Data Scientist, Natural Language Proc...   \n",
      "2               Data Scientist I - Charlotte, NC 28255   \n",
      "3            Data Scientist - West Lafayette, IN 47906   \n",
      "4                  Data Scientist - Bellevue, WA 98004   \n",
      "..                                                 ...   \n",
      "777  Data Scientist, Engineering - San Francisco, C...   \n",
      "778     Senior Data Scientist - Philadelphia, PA 19112   \n",
      "779  Research Scientist, Mobile Manipulation Percep...   \n",
      "780  Data Scientist - Customer Analytics - San Brun...   \n",
      "781                  Data Scientist - Austin, TX 78759   \n",
      "\n",
      "                                                  body  \n",
      "0    Data Scientist 2/3 - Secret - Chantilly, VA\\nD...  \n",
      "1    Manager, Data Scientist, Natural Language Proc...  \n",
      "2    Data Scientist I - Charlotte, NC 28255\\nJob De...  \n",
      "3    Data Scientist - West Lafayette, IN 47906\\nDTN...  \n",
      "4    Data Scientist - Bellevue, WA 98004\\nWork Area...  \n",
      "..                                                 ...  \n",
      "777  Data Scientist, Engineering - San Francisco, C...  \n",
      "778  Senior Data Scientist - Philadelphia, PA 19112...  \n",
      "779  Research Scientist, Mobile Manipulation Percep...  \n",
      "780  Data Scientist - Customer Analytics - San Brun...  \n",
      "781  Data Scientist - Austin, TX 78759\\nPosition Pu...  \n",
      "\n",
      "[782 rows x 2 columns]\n"
     ]
    }
   ],
   "source": [
    "df = pd.DataFrame(columns=[\"title\", \"body\"])\n",
    "n = 0\n",
    "\n",
    "for jobfile in files:\n",
    "    htmlcontent = getHtmlFromFile(jobfile)\n",
    "    \n",
    "    title = htmlcontent.title.text\n",
    "       \n",
    "    if isDataScienceTitle(title):\n",
    "        body = htmlcontent.body.text\n",
    "        df.loc[n, \"title\"] = title\n",
    "        df.loc[n, \"body\"] = body\n",
    "        n = n + 1\n",
    "\n",
    "print(f'Nro: {n}')\n",
    "print(df)"
   ]
  },
  {
   "cell_type": "code",
   "execution_count": null,
   "metadata": {},
   "outputs": [],
   "source": []
  }
 ],
 "metadata": {
  "kernelspec": {
   "display_name": "Python 3",
   "language": "python",
   "name": "python3"
  },
  "language_info": {
   "codemirror_mode": {
    "name": "ipython",
    "version": 3
   },
   "file_extension": ".py",
   "mimetype": "text/x-python",
   "name": "python",
   "nbconvert_exporter": "python",
   "pygments_lexer": "ipython3",
   "version": "3.7.6"
  }
 },
 "nbformat": 4,
 "nbformat_minor": 4
}
